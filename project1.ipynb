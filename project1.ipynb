{
 "cells": [
  {
   "cell_type": "code",
   "execution_count": 8,
   "id": "42766367",
   "metadata": {},
   "outputs": [
    {
     "name": "stdout",
     "output_type": "stream",
     "text": [
      "Collecting faker\n",
      "  Downloading Faker-13.13.0-py3-none-any.whl (1.6 MB)\n",
      "Requirement already satisfied: python-dateutil>=2.4 in c:\\users\\anubhavmishra1\\appdata\\local\\programs\\python\\python310\\lib\\site-packages (from faker) (2.8.2)\n",
      "Requirement already satisfied: six>=1.5 in c:\\users\\anubhavmishra1\\appdata\\local\\programs\\python\\python310\\lib\\site-packages (from python-dateutil>=2.4->faker) (1.16.0)\n",
      "Installing collected packages: faker\n",
      "Successfully installed faker-13.13.0\n",
      "Note: you may need to restart the kernel to use updated packages.\n"
     ]
    },
    {
     "name": "stderr",
     "output_type": "stream",
     "text": [
      "WARNING: You are using pip version 21.2.4; however, version 22.1.2 is available.\n",
      "You should consider upgrading via the 'C:\\Users\\anubhavmishra1\\AppData\\Local\\Programs\\Python\\Python310\\python.exe -m pip install --upgrade pip' command.\n"
     ]
    }
   ],
   "source": [
    "# pip install faker"
   ]
  },
  {
   "cell_type": "code",
   "execution_count": 1,
   "id": "da502b15",
   "metadata": {},
   "outputs": [],
   "source": [
    "import pandas as pd"
   ]
  },
  {
   "cell_type": "code",
   "execution_count": 46,
   "id": "89912442",
   "metadata": {},
   "outputs": [],
   "source": [
    "import random\n",
    "from faker import Faker\n",
    "from datetime import datetime\n",
    "import time\n",
    "import csv"
   ]
  },
  {
   "cell_type": "code",
   "execution_count": 72,
   "id": "ec63d97c",
   "metadata": {},
   "outputs": [],
   "source": [
    "#nr_of_customers=100\n",
    "name=['Land of Toys Inc.', 'Reims Collectables', 'Lyon Souveniers',\n",
    "       'Toys4GrownUps.com', 'Corporate Gift Ideas Co.',\n",
    "       'Technics Stores Inc.', 'Daedalus Designs Imports', 'Herkku Gifts',\n",
    "       'Mini Wheels Co.', 'Auto Canal Petit', 'Australian Collectors Co.',\n",
    "       'Vitachrome Inc.', 'Tekni Collectables Inc.', 'Gift Depot Inc.',\n",
    "       'La Rochelle Gifts', \"Marta's Replicas Co.\", 'Toys of Finland Co.',\n",
    "       'Baane Mini Imports', 'Diecast Classics Inc.',\n",
    "       'Salzburg Collectables', 'Souveniers And Things Co.',\n",
    "       'FunGiftIdeas.com', 'UK Collectables Ltd.',\n",
    "       'Euro Shopping Channel', 'Volvo Model Replicas Co',\n",
    "       'Corrida Auto Replicas Ltd', 'Dragon Souveniers Ltd.',\n",
    "       'Classic Legends Inc.', 'Australian Gift Network Co',\n",
    "       'Classic Gift Ideas Inc', 'Saveley & Henriot Co.',\n",
    "       'Canadian Gift Exchange Network', 'West Coast Collectables Co.',\n",
    "       'Cambridge Collectables Co.', 'Super Scale Inc.',\n",
    "       'Tokyo Collectables Ltd', 'Amica Models & Co.',\n",
    "       'Scandinavian Gift Ideas', 'Auto Assoc. & Cie.',\n",
    "       'Mini Gifts Distributors Ltd.', 'Online Diecast Creations Co.',\n",
    "       'Collectables For Less Inc.', \"Anna's Decorations Ltd\",\n",
    "       'Quebec Home Shopping Network', 'Osaka Souveniers Co.',\n",
    "       'Motor Mint Distributors Inc.', 'Atelier graphique',\n",
    "       'Mini Classics']\n",
    "territory=['EMEA','APAC','Japan']\n",
    "def generate_data(customers_id):\n",
    "    fake=Faker('en_US')\n",
    "    customers=[]\n",
    "    #sales=[]\n",
    "\n",
    "    #for customers_id in range(1,nr_of_customers+1):\n",
    "\n",
    "\n",
    "    #Choose customer's name\n",
    "    custname=random.choice(name)\n",
    "\n",
    "    #Create fake email\n",
    "    email=fake.email()\n",
    "\n",
    "    #Create city\n",
    "    city = fake.city()\n",
    "\n",
    "    #Create fake country\n",
    "    country=fake.country()\n",
    "\n",
    "    #Choose territory\n",
    "    terr=random.choice(territory)\n",
    "    \n",
    "    #Fake Contact Name\n",
    "\n",
    "    fakename = fake.name()\n",
    "    \n",
    "    customers.append(customers_id)\n",
    "    customers.append(custname)\n",
    "    customers.append(email)\n",
    "    customers.append(city)\n",
    "    customers.append(country)\n",
    "    customers.append(terr)\n",
    "    customers.append(fakename.split()[0])\n",
    "    customers.append(fakename.split()[1])\n",
    "\n",
    "    \n",
    "    #customers.append([product_ID,name,gender,transaction_date,city,pickup,tripduration,amount_spent])\n",
    "\n",
    "    #if(i==1):\n",
    "     #   customers_df = pd.DataFrame(customers, columns=['CUSTOMERID','CUSTOMERNAME','EMAIL','GENDER','CITY','COUNTRY'])\n",
    "      #  return customers_df\n",
    "    #else:\n",
    "     #   customers_df = pd.DataFrame(customers)\n",
    "     #   return customers_df\n",
    "\n",
    "    #pd.pandas.set_option('display.max_columns', None)\n",
    "    #print(customers_df)\n",
    "    return customers"
   ]
  },
  {
   "cell_type": "code",
   "execution_count": 55,
   "id": "b960c17d",
   "metadata": {},
   "outputs": [
    {
     "data": {
      "text/plain": [
       "[1,\n",
       " 'William Ritter',\n",
       " 'millermelissa@example.com',\n",
       " 'M',\n",
       " 'Harrisfurt',\n",
       " 'Estonia']"
      ]
     },
     "execution_count": 55,
     "metadata": {},
     "output_type": "execute_result"
    }
   ],
   "source": [
    "generate_data(1)"
   ]
  },
  {
   "cell_type": "code",
   "execution_count": 74,
   "id": "c3a32d00",
   "metadata": {},
   "outputs": [
    {
     "ename": "KeyboardInterrupt",
     "evalue": "",
     "output_type": "error",
     "traceback": [
      "\u001b[1;31m---------------------------------------------------------------------------\u001b[0m",
      "\u001b[1;31mKeyboardInterrupt\u001b[0m                         Traceback (most recent call last)",
      "Input \u001b[1;32mIn [74]\u001b[0m, in \u001b[0;36m<cell line: 4>\u001b[1;34m()\u001b[0m\n\u001b[0;32m     13\u001b[0m         write\u001b[38;5;241m.\u001b[39mwriterow(header)\n\u001b[0;32m     14\u001b[0m     write\u001b[38;5;241m.\u001b[39mwriterow(data)\n\u001b[1;32m---> 15\u001b[0m \u001b[43mtime\u001b[49m\u001b[38;5;241;43m.\u001b[39;49m\u001b[43msleep\u001b[49m\u001b[43m(\u001b[49m\u001b[38;5;241;43m5\u001b[39;49m\u001b[43m)\u001b[49m\n\u001b[0;32m     16\u001b[0m i\u001b[38;5;241m+\u001b[39m\u001b[38;5;241m=\u001b[39m\u001b[38;5;241m1\u001b[39m\n",
      "\u001b[1;31mKeyboardInterrupt\u001b[0m: "
     ]
    }
   ],
   "source": [
    "header=['CUSTOMERID', 'CUSTOMERNAME', 'EMAIL', 'CITY', 'COUNTRY', 'TERRITORY',\n",
    "       'CONTACTFIRSTNAME', 'CONTACTLASTNAME']\n",
    "i=1\n",
    "while True:\n",
    "    data = generate_data(i)\n",
    "    date_ = datetime.now().strftime(\"%b_%d_%Y\")\n",
    "    #time_ = datetime.now().strftime(\"%I_%M_%S_%p\")\n",
    "    fname = 'Customer_Data_'+str(date_)+'.csv'\n",
    "\n",
    "    with open(fname, 'a+',newline = '') as file:\n",
    "        write = csv.writer(file)\n",
    "        if(i==1):\n",
    "            write.writerow(header)\n",
    "        write.writerow(data)\n",
    "    time.sleep(5)\n",
    "    i+=1"
   ]
  },
  {
   "cell_type": "code",
   "execution_count": 88,
   "id": "3075f7ac",
   "metadata": {},
   "outputs": [],
   "source": [
    "products=['S10_1678', 'S10_1949', 'S10_2016', 'S10_4698', 'S10_4757',\n",
    "       'S10_4962', 'S12_1099', 'S12_1108', 'S12_1666', 'S12_2823',\n",
    "       'S12_3148', 'S12_3380', 'S12_3891', 'S12_3990', 'S12_4473',\n",
    "       'S12_4675', 'S18_1097', 'S18_1129', 'S18_1342', 'S18_1367',\n",
    "       'S18_1589', 'S18_1662', 'S18_1749', 'S18_1889', 'S18_1984',\n",
    "       'S18_2238', 'S18_2248', 'S18_2319', 'S18_2325', 'S18_2432',\n",
    "       'S18_2581', 'S18_2625', 'S18_2795', 'S18_2870', 'S18_2949',\n",
    "       'S18_2957', 'S18_3029', 'S18_3136', 'S18_3140', 'S18_3232',\n",
    "       'S18_3259', 'S18_3278', 'S18_3320', 'S18_3482', 'S18_3685',\n",
    "       'S18_3782', 'S18_3856', 'S18_4027', 'S18_4409', 'S18_4522',\n",
    "       'S18_4600', 'S18_4668', 'S18_4721', 'S18_4933', 'S24_1046',\n",
    "       'S24_1444', 'S24_1578', 'S24_1628', 'S24_1785', 'S24_1937',\n",
    "       'S24_2000', 'S24_2011', 'S24_2022', 'S24_2300', 'S24_2360',\n",
    "       'S24_2766', 'S24_2840', 'S24_2841', 'S24_2887', 'S24_2972',\n",
    "       'S24_3151', 'S24_3191', 'S24_3371', 'S24_3420', 'S24_3432',\n",
    "       'S24_3816', 'S24_3856', 'S24_3949', 'S24_3969', 'S24_4048',\n",
    "       'S24_4258', 'S24_4278', 'S24_4620', 'S32_1268', 'S32_1374',\n",
    "       'S32_2206', 'S32_2509', 'S32_3207', 'S32_3522', 'S32_4289',\n",
    "       'S32_4485', 'S50_1341', 'S50_1392', 'S50_1514', 'S50_4713',\n",
    "       'S700_1138', 'S700_1691', 'S700_1938', 'S700_2047', 'S700_2466',\n",
    "       'S700_2610', 'S700_2824', 'S700_2834', 'S700_3167', 'S700_3505',\n",
    "       'S700_3962', 'S700_4002', 'S72_1253', 'S72_3212']"
   ]
  },
  {
   "cell_type": "code",
   "execution_count": 102,
   "id": "859af33e",
   "metadata": {},
   "outputs": [],
   "source": [
    "def generate_data_sales(customers_id):\n",
    "    fake=Faker('en_US')\n",
    "    sales=[]\n",
    "\n",
    "    #Create Order Number\n",
    "    order_no = random.randint(10100,10425)\n",
    "\n",
    "    #Create quantity ordered\n",
    "    quantity=random.randint(1,100)\n",
    "\n",
    "    #create amount spent\n",
    "    amount_spent = fake.pyfloat(right_digits=2, positive=True, min_value=1, max_value=100)\n",
    "    \n",
    "    #Create orderlinenumber\n",
    "    oln=random.choice([ 2,  5,  6, 14,  1,  9,  7, 13, 12,  4, 11,  8,  3, 10, 17, 16, 15,\n",
    "       18])\n",
    "\n",
    "    #Total sales\n",
    "    total_sales=quantity*amount_spent\n",
    "    \n",
    "    #Create orderdate\n",
    "    d1 = datetime.strptime(f'1/10/2003', '%m/%d/%Y')\n",
    "    d2 = datetime.strptime(f'9/9/2004', '%m/%d/%Y')\n",
    "    transaction_date = fake.date_between(d1, d2)\n",
    "    orderdate=transaction_date.strftime('%m/%d/%Y')\n",
    "    odate=orderdate+' 0:00'\n",
    "    \n",
    "    #Create Status\n",
    "    status=random.choice(['Shipped', 'Disputed', 'In Process', 'Cancelled', 'On Hold',\n",
    "       'Resolved'])\n",
    "    \n",
    "    #Create qtrid\n",
    "    qtrid=random.randint(1,4)\n",
    "    \n",
    "    #Create month ID\n",
    "    monthid=transaction_date.month\n",
    "    \n",
    "    #Create year ID\n",
    "    yearid=transaction_date.year\n",
    "    \n",
    "    #Create productline\n",
    "    prdline=random.choice(['Motorcycles', 'Classic Cars', 'Trucks and Buses', 'Vintage Cars',\n",
    "       'Planes', 'Ships', 'Trains'])\n",
    "    \n",
    "    #Create MSRP\n",
    "    msrp=random.randint(33,214)\n",
    "    \n",
    "    #Choose products\n",
    "    pcode=random.choice(products)\n",
    "    \n",
    "    #Choose deal size\n",
    "    dSize='Small' if total_sales<3000 else ('Medium' if total_sales<7000 else 'Large')\n",
    "    \n",
    "    \n",
    "    sales.append(order_no)\n",
    "    sales.append(quantity)\n",
    "    sales.append(amount_spent)\n",
    "    sales.append(oln)\n",
    "    sales.append(total_sales) \n",
    "    sales.append(odate)\n",
    "    sales.append(status)\n",
    "    sales.append(qtrid)\n",
    "    sales.append(monthid)\n",
    "    sales.append(yearid)\n",
    "    sales.append(prdline)\n",
    "    sales.append(msrp)\n",
    "    sales.append(pcode)\n",
    "    sales.append(dSize)\n",
    "    sales.append(customers_id)\n",
    "\n",
    "    return sales"
   ]
  },
  {
   "cell_type": "code",
   "execution_count": 103,
   "id": "4c0b4d54",
   "metadata": {},
   "outputs": [
    {
     "data": {
      "text/plain": [
       "[10146,\n",
       " 32,\n",
       " 41.61,\n",
       " 12,\n",
       " 1331.52,\n",
       " '11/18/2003 0:00',\n",
       " 'On Hold',\n",
       " 2,\n",
       " 11,\n",
       " 2003,\n",
       " 'Vintage Cars',\n",
       " 61,\n",
       " 'S18_4600',\n",
       " 'Small',\n",
       " 1]"
      ]
     },
     "execution_count": 103,
     "metadata": {},
     "output_type": "execute_result"
    }
   ],
   "source": [
    "generate_data_sales(1)"
   ]
  },
  {
   "cell_type": "code",
   "execution_count": 104,
   "id": "610c2c81",
   "metadata": {},
   "outputs": [
    {
     "ename": "KeyboardInterrupt",
     "evalue": "",
     "output_type": "error",
     "traceback": [
      "\u001b[1;31m---------------------------------------------------------------------------\u001b[0m",
      "\u001b[1;31mKeyboardInterrupt\u001b[0m                         Traceback (most recent call last)",
      "Input \u001b[1;32mIn [104]\u001b[0m, in \u001b[0;36m<cell line: 5>\u001b[1;34m()\u001b[0m\n\u001b[0;32m     14\u001b[0m         write\u001b[38;5;241m.\u001b[39mwriterow(header)\n\u001b[0;32m     15\u001b[0m     write\u001b[38;5;241m.\u001b[39mwriterow(data)\n\u001b[1;32m---> 16\u001b[0m \u001b[43mtime\u001b[49m\u001b[38;5;241;43m.\u001b[39;49m\u001b[43msleep\u001b[49m\u001b[43m(\u001b[49m\u001b[38;5;241;43m5\u001b[39;49m\u001b[43m)\u001b[49m\n\u001b[0;32m     17\u001b[0m i\u001b[38;5;241m+\u001b[39m\u001b[38;5;241m=\u001b[39m\u001b[38;5;241m1\u001b[39m\n",
      "\u001b[1;31mKeyboardInterrupt\u001b[0m: "
     ]
    }
   ],
   "source": [
    "header=['ORDERNUMBER', 'QUANTITYORDERED', 'PRICEEACH', 'ORDERLINENUMBER',\n",
    "       'SALES', 'ORDERDATE', 'STATUS', 'QTR_ID', 'MONTH_ID', 'YEAR_ID',\n",
    "       'PRODUCTLINE', 'MSRP', 'PRODUCTCODE', 'DEALSIZE', 'CUSTOMERID']\n",
    "i=1\n",
    "while True:\n",
    "    data = generate_data_sales(i)\n",
    "    date_ = datetime.now().strftime(\"%b_%d_%Y\")\n",
    "    #time_ = datetime.now().strftime(\"%I_%M_%S_%p\")\n",
    "    fname = 'Sales_Data_'+str(date_)+'.csv'\n",
    "\n",
    "    with open(fname, 'a+',newline = '') as file:\n",
    "        write = csv.writer(file)\n",
    "        if(i==1):\n",
    "            write.writerow(header)\n",
    "        write.writerow(data)\n",
    "    time.sleep(5)\n",
    "    i+=1"
   ]
  },
  {
   "cell_type": "code",
   "execution_count": null,
   "id": "cfbee717",
   "metadata": {},
   "outputs": [],
   "source": []
  }
 ],
 "metadata": {
  "kernelspec": {
   "display_name": "Python 3 (ipykernel)",
   "language": "python",
   "name": "python3"
  },
  "language_info": {
   "codemirror_mode": {
    "name": "ipython",
    "version": 3
   },
   "file_extension": ".py",
   "mimetype": "text/x-python",
   "name": "python",
   "nbconvert_exporter": "python",
   "pygments_lexer": "ipython3",
   "version": "3.10.2"
  }
 },
 "nbformat": 4,
 "nbformat_minor": 5
}
