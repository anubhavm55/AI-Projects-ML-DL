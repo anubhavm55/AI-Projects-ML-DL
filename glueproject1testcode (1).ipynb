{
 "cells": [
  {
   "cell_type": "code",
   "execution_count": 1,
   "id": "9d4007d3",
   "metadata": {},
   "outputs": [
    {
     "name": "stdout",
     "output_type": "stream",
     "text": [
      "Starting Spark application\n"
     ]
    },
    {
     "data": {
      "text/html": [
       "<table>\n",
       "<tr><th>ID</th><th>YARN Application ID</th><th>Kind</th><th>State</th><th>Spark UI</th><th>Driver log</th><th>User</th><th>Current session?</th></tr><tr><td>1</td><td>application_1649929364847_0002</td><td>pyspark</td><td>idle</td><td><a target=\"_blank\" href=\"http://ip-172-31-0-80.ap-south-1.compute.internal:20888/proxy/application_1649929364847_0002/\">Link</a></td><td><a target=\"_blank\" href=\"http://ip-172-31-9-234.ap-south-1.compute.internal:8042/node/containerlogs/container_1649929364847_0002_01_000001/livy\">Link</a></td><td>None</td><td>✔</td></tr></table>"
      ],
      "text/plain": [
       "<IPython.core.display.HTML object>"
      ]
     },
     "metadata": {},
     "output_type": "display_data"
    },
    {
     "data": {
      "application/vnd.jupyter.widget-view+json": {
       "model_id": "",
       "version_major": 2,
       "version_minor": 0
      },
      "text/plain": [
       "FloatProgress(value=0.0, bar_style='info', description='Progress:', layout=Layout(height='25px', width='50%'),…"
      ]
     },
     "metadata": {},
     "output_type": "display_data"
    },
    {
     "name": "stdout",
     "output_type": "stream",
     "text": [
      "SparkSession available as 'spark'.\n"
     ]
    },
    {
     "data": {
      "application/vnd.jupyter.widget-view+json": {
       "model_id": "",
       "version_major": 2,
       "version_minor": 0
      },
      "text/plain": [
       "FloatProgress(value=0.0, bar_style='info', description='Progress:', layout=Layout(height='25px', width='50%'),…"
      ]
     },
     "metadata": {},
     "output_type": "display_data"
    }
   ],
   "source": [
    "import sys\n",
    "from awsglue.transforms import *"
   ]
  },
  {
   "cell_type": "code",
   "execution_count": 2,
   "id": "3aa3186d",
   "metadata": {},
   "outputs": [
    {
     "data": {
      "application/vnd.jupyter.widget-view+json": {
       "model_id": "",
       "version_major": 2,
       "version_minor": 0
      },
      "text/plain": [
       "FloatProgress(value=0.0, bar_style='info', description='Progress:', layout=Layout(height='25px', width='50%'),…"
      ]
     },
     "metadata": {},
     "output_type": "display_data"
    }
   ],
   "source": [
    "from awsglue.utils import getResolvedOptions\n",
    "from pyspark.context import SparkContext\n",
    "from awsglue.context import GlueContext\n",
    "from awsglue.job import Job"
   ]
  },
  {
   "cell_type": "code",
   "execution_count": 3,
   "id": "1fd0d69b",
   "metadata": {},
   "outputs": [
    {
     "data": {
      "application/vnd.jupyter.widget-view+json": {
       "model_id": "",
       "version_major": 2,
       "version_minor": 0
      },
      "text/plain": [
       "FloatProgress(value=0.0, bar_style='info', description='Progress:', layout=Layout(height='25px', width='50%'),…"
      ]
     },
     "metadata": {},
     "output_type": "display_data"
    }
   ],
   "source": [
    "glueContext = GlueContext(SparkContext.getOrCreate())"
   ]
  },
  {
   "cell_type": "code",
   "execution_count": 5,
   "id": "22ce2cb5",
   "metadata": {},
   "outputs": [
    {
     "data": {
      "application/vnd.jupyter.widget-view+json": {
       "model_id": "",
       "version_major": 2,
       "version_minor": 0
      },
      "text/plain": [
       "FloatProgress(value=0.0, bar_style='info', description='Progress:', layout=Layout(height='25px', width='50%'),…"
      ]
     },
     "metadata": {},
     "output_type": "display_data"
    }
   ],
   "source": [
    "sales = glueContext.create_dynamic_frame.from_catalog(database='tejkpmglighthouseproject1db',table_name='project1')"
   ]
  },
  {
   "cell_type": "code",
   "execution_count": 6,
   "id": "1b30228a",
   "metadata": {},
   "outputs": [
    {
     "data": {
      "application/vnd.jupyter.widget-view+json": {
       "model_id": "",
       "version_major": 2,
       "version_minor": 0
      },
      "text/plain": [
       "FloatProgress(value=0.0, bar_style='info', description='Progress:', layout=Layout(height='25px', width='50%'),…"
      ]
     },
     "metadata": {},
     "output_type": "display_data"
    },
    {
     "name": "stdout",
     "output_type": "stream",
     "text": [
      "root\n",
      "|-- ordernumber: long\n",
      "|-- quantityordered: long\n",
      "|-- priceeach: double\n",
      "|-- orderlinenumber: long\n",
      "|-- sales: double\n",
      "|-- orderdate: string\n",
      "|-- status: string\n",
      "|-- qtr_id: long\n",
      "|-- month_id: long\n",
      "|-- year_id: long\n",
      "|-- productline: string\n",
      "|-- msrp: long\n",
      "|-- productcode: string\n",
      "|-- dealsize: string\n",
      "|-- customerid: long"
     ]
    }
   ],
   "source": [
    "sales.printSchema()"
   ]
  },
  {
   "cell_type": "code",
   "execution_count": 11,
   "id": "30485231",
   "metadata": {},
   "outputs": [
    {
     "data": {
      "application/vnd.jupyter.widget-view+json": {
       "model_id": "",
       "version_major": 2,
       "version_minor": 0
      },
      "text/plain": [
       "FloatProgress(value=0.0, bar_style='info', description='Progress:', layout=Layout(height='25px', width='50%'),…"
      ]
     },
     "metadata": {},
     "output_type": "display_data"
    },
    {
     "name": "stdout",
     "output_type": "stream",
     "text": [
      "+-----------+-------+\n",
      "|ordernumber| status|\n",
      "+-----------+-------+\n",
      "|      10184|Shipped|\n",
      "|      10134|Shipped|\n",
      "|      10120|Shipped|\n",
      "|      10344|Shipped|\n",
      "|      10378|Shipped|\n",
      "|      10252|Shipped|\n",
      "|      10340|Shipped|\n",
      "|      10321|Shipped|\n",
      "|      10106|Shipped|\n",
      "|      10205|Shipped|\n",
      "|      10398|Shipped|\n",
      "|      10180|Shipped|\n",
      "|      10388|Shipped|\n",
      "|      10284|Shipped|\n",
      "|      10351|Shipped|\n",
      "|      10154|Shipped|\n",
      "|      10140|Shipped|\n",
      "|      10389|Shipped|\n",
      "|      10151|Shipped|\n",
      "|      10243|Shipped|\n",
      "+-----------+-------+\n",
      "only showing top 20 rows"
     ]
    }
   ],
   "source": [
    "sales.select_fields([\"ordernumber\",\"status\"]).toDF().distinct().show()"
   ]
  },
  {
   "cell_type": "code",
   "execution_count": 14,
   "id": "6d8e9c9f",
   "metadata": {},
   "outputs": [
    {
     "data": {
      "application/vnd.jupyter.widget-view+json": {
       "model_id": "",
       "version_major": 2,
       "version_minor": 0
      },
      "text/plain": [
       "FloatProgress(value=0.0, bar_style='info', description='Progress:', layout=Layout(height='25px', width='50%'),…"
      ]
     },
     "metadata": {},
     "output_type": "display_data"
    },
    {
     "name": "stdout",
     "output_type": "stream",
     "text": [
      "+-----------+-------+\n",
      "|ordernumber| status|\n",
      "+-----------+-------+\n",
      "|      10107|Shipped|\n",
      "|      10121|Shipped|\n",
      "|      10134|Shipped|\n",
      "|      10145|Shipped|\n",
      "|      10159|Shipped|\n",
      "|      10168|Shipped|\n",
      "|      10180|Shipped|\n",
      "|      10188|Shipped|\n",
      "|      10201|Shipped|\n",
      "|      10211|Shipped|\n",
      "|      10223|Shipped|\n",
      "|      10237|Shipped|\n",
      "|      10251|Shipped|\n",
      "|      10263|Shipped|\n",
      "|      10275|Shipped|\n",
      "|      10285|Shipped|\n",
      "|      10299|Shipped|\n",
      "|      10309|Shipped|\n",
      "|      10318|Shipped|\n",
      "|      10329|Shipped|\n",
      "+-----------+-------+\n",
      "only showing top 20 rows"
     ]
    }
   ],
   "source": [
    "sales.select_fields([\"ordernumber\",\"status\"]).toDF().show()"
   ]
  },
  {
   "cell_type": "code",
   "execution_count": 17,
   "id": "05fcc57f",
   "metadata": {},
   "outputs": [
    {
     "data": {
      "application/vnd.jupyter.widget-view+json": {
       "model_id": "",
       "version_major": 2,
       "version_minor": 0
      },
      "text/plain": [
       "FloatProgress(value=0.0, bar_style='info', description='Progress:', layout=Layout(height='25px', width='50%'),…"
      ]
     },
     "metadata": {},
     "output_type": "display_data"
    },
    {
     "name": "stdout",
     "output_type": "stream",
     "text": [
      "Count: 2823"
     ]
    }
   ],
   "source": [
    "print (\"Count:\" , sales.count())"
   ]
  },
  {
   "cell_type": "code",
   "execution_count": 18,
   "id": "59b159e4",
   "metadata": {},
   "outputs": [
    {
     "data": {
      "application/vnd.jupyter.widget-view+json": {
       "model_id": "",
       "version_major": 2,
       "version_minor": 0
      },
      "text/plain": [
       "FloatProgress(value=0.0, bar_style='info', description='Progress:', layout=Layout(height='25px', width='50%'),…"
      ]
     },
     "metadata": {},
     "output_type": "display_data"
    }
   ],
   "source": [
    "import sys\n",
    "import datetime\n",
    "import json\n",
    "from collections import Iterable, OrderedDict\n",
    "from itertools import product\n",
    "import logging\n",
    "import boto3\n",
    "import pyspark\n",
    "from pyspark.sql import Row\n",
    "from pyspark.sql.column import Column, _to_java_column\n",
    "from pyspark.sql.types import array, ArrayType, IntegerType, NullType, StringType, StructType\n",
    "from pyspark.sql.functions import col, concat_ws, collect_list, explode, lit, split, when, upper"
   ]
  },
  {
   "cell_type": "code",
   "execution_count": 19,
   "id": "b37c9811",
   "metadata": {},
   "outputs": [
    {
     "data": {
      "application/vnd.jupyter.widget-view+json": {
       "model_id": "",
       "version_major": 2,
       "version_minor": 0
      },
      "text/plain": [
       "FloatProgress(value=0.0, bar_style='info', description='Progress:', layout=Layout(height='25px', width='50%'),…"
      ]
     },
     "metadata": {},
     "output_type": "display_data"
    }
   ],
   "source": [
    "from awsglue.context import GlueContext\n",
    "from awsglue.dynamicframe import DynamicFrame\n",
    "from awsglue.transforms import Relationalize\n",
    "from awsglue.utils import getResolvedOptions\n",
    "from awsglue.job import Job\n",
    "from awsglue.transforms import *"
   ]
  },
  {
   "cell_type": "code",
   "execution_count": 22,
   "id": "070a0605",
   "metadata": {},
   "outputs": [
    {
     "data": {
      "application/vnd.jupyter.widget-view+json": {
       "model_id": "",
       "version_major": 2,
       "version_minor": 0
      },
      "text/plain": [
       "FloatProgress(value=0.0, bar_style='info', description='Progress:', layout=Layout(height='25px', width='50%'),…"
      ]
     },
     "metadata": {},
     "output_type": "display_data"
    },
    {
     "name": "stderr",
     "output_type": "stream",
     "text": [
      "An error was encountered:\n",
      "Cannot run multiple SparkContexts at once; existing SparkContext(app=livy-session-1, master=yarn) created by __init__ at /mnt/yarn/usercache/livy/appcache/application_1649929364847_0002/container_1649929364847_0002_01_000001/tmp/6802815270539580205:589 \n",
      "Traceback (most recent call last):\n",
      "  File \"/mnt/yarn/usercache/livy/appcache/application_1649929364847_0002/container_1649929364847_0002_01_000001/pyspark.zip/pyspark/context.py\", line 133, in __init__\n",
      "    SparkContext._ensure_initialized(self, gateway=gateway, conf=conf)\n",
      "  File \"/mnt/yarn/usercache/livy/appcache/application_1649929364847_0002/container_1649929364847_0002_01_000001/pyspark.zip/pyspark/context.py\", line 332, in _ensure_initialized\n",
      "    callsite.function, callsite.file, callsite.linenum))\n",
      "ValueError: Cannot run multiple SparkContexts at once; existing SparkContext(app=livy-session-1, master=yarn) created by __init__ at /mnt/yarn/usercache/livy/appcache/application_1649929364847_0002/container_1649929364847_0002_01_000001/tmp/6802815270539580205:589 \n",
      "\n"
     ]
    }
   ],
   "source": []
  },
  {
   "cell_type": "code",
   "execution_count": 23,
   "id": "193f4280",
   "metadata": {},
   "outputs": [
    {
     "data": {
      "application/vnd.jupyter.widget-view+json": {
       "model_id": "",
       "version_major": 2,
       "version_minor": 0
      },
      "text/plain": [
       "FloatProgress(value=0.0, bar_style='info', description='Progress:', layout=Layout(height='25px', width='50%'),…"
      ]
     },
     "metadata": {},
     "output_type": "display_data"
    },
    {
     "name": "stderr",
     "output_type": "stream",
     "text": [
      "An error was encountered:\n",
      "'GlueContext' object has no attribute 'status'\n",
      "Traceback (most recent call last):\n",
      "AttributeError: 'GlueContext' object has no attribute 'status'\n",
      "\n"
     ]
    }
   ],
   "source": [
    "glueContext"
   ]
  },
  {
   "cell_type": "code",
   "execution_count": null,
   "id": "99cbfbea",
   "metadata": {},
   "outputs": [],
   "source": [
    "ds = glueContext.create_dynamic_frame.from_catalog(database = “test-only”, table_name = “mytable”, transformation_ctx = “datasource0”)"
   ]
  },
  {
   "cell_type": "code",
   "execution_count": 24,
   "id": "e105bb76",
   "metadata": {},
   "outputs": [
    {
     "data": {
      "application/vnd.jupyter.widget-view+json": {
       "model_id": "",
       "version_major": 2,
       "version_minor": 0
      },
      "text/plain": [
       "FloatProgress(value=0.0, bar_style='info', description='Progress:', layout=Layout(height='25px', width='50%'),…"
      ]
     },
     "metadata": {},
     "output_type": "display_data"
    },
    {
     "name": "stderr",
     "output_type": "stream",
     "text": [
      "An error was encountered:\n",
      "invalid syntax (<stdin>, line 1)\n",
      "  File \"<stdin>\", line 1\n",
      "    saless3 = glueContext.create_dynamic_frame_from_options(connection_type = \"s3\", connection_options = {\"paths\": [\"s3://kpmg-lighthouse-projects-aws/project-1-s3-glue/gluecrawlerdataset/project1/sales.csv\"], \"recurse\"=True}, format = \"csv\")\n",
      "                                                                                                                                                                                                                           ^\n",
      "SyntaxError: invalid syntax\n",
      "\n"
     ]
    }
   ],
   "source": [
    "saless3 = glueContext.create_dynamic_frame_from_options(connection_type = \"s3\", connection_options = {\"paths\": [\"s3://kpmg-lighthouse-projects-aws/project-1-s3-glue/gluecrawlerdataset/project1/sales.csv\"], \"recurse\"=True}, format = \"csv\")"
   ]
  },
  {
   "cell_type": "code",
   "execution_count": 25,
   "id": "d4889ee4",
   "metadata": {},
   "outputs": [
    {
     "data": {
      "application/vnd.jupyter.widget-view+json": {
       "model_id": "",
       "version_major": 2,
       "version_minor": 0
      },
      "text/plain": [
       "FloatProgress(value=0.0, bar_style='info', description='Progress:', layout=Layout(height='25px', width='50%'),…"
      ]
     },
     "metadata": {},
     "output_type": "display_data"
    }
   ],
   "source": [
    "csvDf = glueContext.read.csv(\"s3://kpmg-lighthouse-projects-aws/project-1-s3-glue/gluecrawlerdataset/project1/sales.csv\")"
   ]
  },
  {
   "cell_type": "code",
   "execution_count": 26,
   "id": "c45d20d9",
   "metadata": {},
   "outputs": [
    {
     "data": {
      "application/vnd.jupyter.widget-view+json": {
       "model_id": "",
       "version_major": 2,
       "version_minor": 0
      },
      "text/plain": [
       "FloatProgress(value=0.0, bar_style='info', description='Progress:', layout=Layout(height='25px', width='50%'),…"
      ]
     },
     "metadata": {},
     "output_type": "display_data"
    },
    {
     "name": "stdout",
     "output_type": "stream",
     "text": [
      "+-----------+---------------+---------+---------------+-------+---------------+-------+------+--------+-------+-----------+----+-----------+--------+----------+\n",
      "|        _c0|            _c1|      _c2|            _c3|    _c4|            _c5|    _c6|   _c7|     _c8|    _c9|       _c10|_c11|       _c12|    _c13|      _c14|\n",
      "+-----------+---------------+---------+---------------+-------+---------------+-------+------+--------+-------+-----------+----+-----------+--------+----------+\n",
      "|ORDERNUMBER|QUANTITYORDERED|PRICEEACH|ORDERLINENUMBER|  SALES|      ORDERDATE| STATUS|QTR_ID|MONTH_ID|YEAR_ID|PRODUCTLINE|MSRP|PRODUCTCODE|DEALSIZE|CUSTOMERID|\n",
      "|      10107|             30|     95.7|              2|   2871| 2/24/2003 0:00|Shipped|     1|       2|   2003|Motorcycles|  95|   S10_1678|   Small|         1|\n",
      "|      10121|             34|    81.35|              5| 2765.9|  5/7/2003 0:00|Shipped|     2|       5|   2003|Motorcycles|  95|   S10_1678|   Small|         2|\n",
      "|      10134|             41|    94.74|              2|3884.34|  7/1/2003 0:00|Shipped|     3|       7|   2003|Motorcycles|  95|   S10_1678|  Medium|         3|\n",
      "|      10145|             45|    83.26|              6| 3746.7| 8/25/2003 0:00|Shipped|     3|       8|   2003|Motorcycles|  95|   S10_1678|  Medium|         4|\n",
      "|      10159|             49|      100|             14|5205.27|10/10/2003 0:00|Shipped|     4|      10|   2003|Motorcycles|  95|   S10_1678|  Medium|         5|\n",
      "|      10168|             36|    96.66|              1|3479.76|10/28/2003 0:00|Shipped|     4|      10|   2003|Motorcycles|  95|   S10_1678|  Medium|         6|\n",
      "|      10180|             29|    86.13|              9|2497.77|11/11/2003 0:00|Shipped|     4|      11|   2003|Motorcycles|  95|   S10_1678|   Small|         7|\n",
      "|      10188|             48|      100|              1|5512.32|11/18/2003 0:00|Shipped|     4|      11|   2003|Motorcycles|  95|   S10_1678|  Medium|         8|\n",
      "|      10201|             22|    98.57|              2|2168.54| 12/1/2003 0:00|Shipped|     4|      12|   2003|Motorcycles|  95|   S10_1678|   Small|         9|\n",
      "|      10211|             41|      100|             14|4708.44| 1/15/2004 0:00|Shipped|     1|       1|   2004|Motorcycles|  95|   S10_1678|  Medium|        10|\n",
      "|      10223|             37|      100|              1|3965.66| 2/20/2004 0:00|Shipped|     1|       2|   2004|Motorcycles|  95|   S10_1678|  Medium|        11|\n",
      "|      10237|             23|      100|              7|2333.12|  4/5/2004 0:00|Shipped|     2|       4|   2004|Motorcycles|  95|   S10_1678|   Small|        12|\n",
      "|      10251|             28|      100|              2|3188.64| 5/18/2004 0:00|Shipped|     2|       5|   2004|Motorcycles|  95|   S10_1678|  Medium|        13|\n",
      "|      10263|             34|      100|              2|3676.76| 6/28/2004 0:00|Shipped|     2|       6|   2004|Motorcycles|  95|   S10_1678|  Medium|        14|\n",
      "|      10275|             45|    92.83|              1|4177.35| 7/23/2004 0:00|Shipped|     3|       7|   2004|Motorcycles|  95|   S10_1678|  Medium|        15|\n",
      "|      10285|             36|      100|              6|4099.68| 8/27/2004 0:00|Shipped|     3|       8|   2004|Motorcycles|  95|   S10_1678|  Medium|        16|\n",
      "|      10299|             23|      100|              9|2597.39| 9/30/2004 0:00|Shipped|     3|       9|   2004|Motorcycles|  95|   S10_1678|   Small|        17|\n",
      "|      10309|             41|      100|              5|4394.38|10/15/2004 0:00|Shipped|     4|      10|   2004|Motorcycles|  95|   S10_1678|  Medium|        18|\n",
      "|      10318|             46|    94.74|              1|4358.04| 11/2/2004 0:00|Shipped|     4|      11|   2004|Motorcycles|  95|   S10_1678|  Medium|        19|\n",
      "+-----------+---------------+---------+---------------+-------+---------------+-------+------+--------+-------+-----------+----+-----------+--------+----------+\n",
      "only showing top 20 rows"
     ]
    }
   ],
   "source": [
    "csvDf.show()"
   ]
  },
  {
   "cell_type": "code",
   "execution_count": 27,
   "id": "98c3cafc",
   "metadata": {},
   "outputs": [
    {
     "data": {
      "application/vnd.jupyter.widget-view+json": {
       "model_id": "",
       "version_major": 2,
       "version_minor": 0
      },
      "text/plain": [
       "FloatProgress(value=0.0, bar_style='info', description='Progress:', layout=Layout(height='25px', width='50%'),…"
      ]
     },
     "metadata": {},
     "output_type": "display_data"
    }
   ],
   "source": [
    "salesDf=glueContext.read.options(inferSchema='True', header='True').csv(\"s3://kpmg-lighthouse-projects-aws/project-1-s3-glue/gluecrawlerdataset/project1/sales.csv\")"
   ]
  },
  {
   "cell_type": "code",
   "execution_count": 28,
   "id": "783fe5fc",
   "metadata": {},
   "outputs": [
    {
     "data": {
      "application/vnd.jupyter.widget-view+json": {
       "model_id": "",
       "version_major": 2,
       "version_minor": 0
      },
      "text/plain": [
       "FloatProgress(value=0.0, bar_style='info', description='Progress:', layout=Layout(height='25px', width='50%'),…"
      ]
     },
     "metadata": {},
     "output_type": "display_data"
    },
    {
     "name": "stdout",
     "output_type": "stream",
     "text": [
      "+-----------+---------------+---------+---------------+-------+---------------+-------+------+--------+-------+-----------+----+-----------+--------+----------+\n",
      "|ORDERNUMBER|QUANTITYORDERED|PRICEEACH|ORDERLINENUMBER|  SALES|      ORDERDATE| STATUS|QTR_ID|MONTH_ID|YEAR_ID|PRODUCTLINE|MSRP|PRODUCTCODE|DEALSIZE|CUSTOMERID|\n",
      "+-----------+---------------+---------+---------------+-------+---------------+-------+------+--------+-------+-----------+----+-----------+--------+----------+\n",
      "|      10107|             30|     95.7|              2| 2871.0| 2/24/2003 0:00|Shipped|     1|       2|   2003|Motorcycles|  95|   S10_1678|   Small|         1|\n",
      "|      10121|             34|    81.35|              5| 2765.9|  5/7/2003 0:00|Shipped|     2|       5|   2003|Motorcycles|  95|   S10_1678|   Small|         2|\n",
      "|      10134|             41|    94.74|              2|3884.34|  7/1/2003 0:00|Shipped|     3|       7|   2003|Motorcycles|  95|   S10_1678|  Medium|         3|\n",
      "|      10145|             45|    83.26|              6| 3746.7| 8/25/2003 0:00|Shipped|     3|       8|   2003|Motorcycles|  95|   S10_1678|  Medium|         4|\n",
      "|      10159|             49|    100.0|             14|5205.27|10/10/2003 0:00|Shipped|     4|      10|   2003|Motorcycles|  95|   S10_1678|  Medium|         5|\n",
      "|      10168|             36|    96.66|              1|3479.76|10/28/2003 0:00|Shipped|     4|      10|   2003|Motorcycles|  95|   S10_1678|  Medium|         6|\n",
      "|      10180|             29|    86.13|              9|2497.77|11/11/2003 0:00|Shipped|     4|      11|   2003|Motorcycles|  95|   S10_1678|   Small|         7|\n",
      "|      10188|             48|    100.0|              1|5512.32|11/18/2003 0:00|Shipped|     4|      11|   2003|Motorcycles|  95|   S10_1678|  Medium|         8|\n",
      "|      10201|             22|    98.57|              2|2168.54| 12/1/2003 0:00|Shipped|     4|      12|   2003|Motorcycles|  95|   S10_1678|   Small|         9|\n",
      "|      10211|             41|    100.0|             14|4708.44| 1/15/2004 0:00|Shipped|     1|       1|   2004|Motorcycles|  95|   S10_1678|  Medium|        10|\n",
      "|      10223|             37|    100.0|              1|3965.66| 2/20/2004 0:00|Shipped|     1|       2|   2004|Motorcycles|  95|   S10_1678|  Medium|        11|\n",
      "|      10237|             23|    100.0|              7|2333.12|  4/5/2004 0:00|Shipped|     2|       4|   2004|Motorcycles|  95|   S10_1678|   Small|        12|\n",
      "|      10251|             28|    100.0|              2|3188.64| 5/18/2004 0:00|Shipped|     2|       5|   2004|Motorcycles|  95|   S10_1678|  Medium|        13|\n",
      "|      10263|             34|    100.0|              2|3676.76| 6/28/2004 0:00|Shipped|     2|       6|   2004|Motorcycles|  95|   S10_1678|  Medium|        14|\n",
      "|      10275|             45|    92.83|              1|4177.35| 7/23/2004 0:00|Shipped|     3|       7|   2004|Motorcycles|  95|   S10_1678|  Medium|        15|\n",
      "|      10285|             36|    100.0|              6|4099.68| 8/27/2004 0:00|Shipped|     3|       8|   2004|Motorcycles|  95|   S10_1678|  Medium|        16|\n",
      "|      10299|             23|    100.0|              9|2597.39| 9/30/2004 0:00|Shipped|     3|       9|   2004|Motorcycles|  95|   S10_1678|   Small|        17|\n",
      "|      10309|             41|    100.0|              5|4394.38|10/15/2004 0:00|Shipped|     4|      10|   2004|Motorcycles|  95|   S10_1678|  Medium|        18|\n",
      "|      10318|             46|    94.74|              1|4358.04| 11/2/2004 0:00|Shipped|     4|      11|   2004|Motorcycles|  95|   S10_1678|  Medium|        19|\n",
      "|      10329|             42|    100.0|              1|4396.14|11/15/2004 0:00|Shipped|     4|      11|   2004|Motorcycles|  95|   S10_1678|  Medium|        20|\n",
      "+-----------+---------------+---------+---------------+-------+---------------+-------+------+--------+-------+-----------+----+-----------+--------+----------+\n",
      "only showing top 20 rows"
     ]
    }
   ],
   "source": [
    "salesDf.show()"
   ]
  },
  {
   "cell_type": "code",
   "execution_count": 29,
   "id": "2f19d424",
   "metadata": {},
   "outputs": [
    {
     "data": {
      "application/vnd.jupyter.widget-view+json": {
       "model_id": "",
       "version_major": 2,
       "version_minor": 0
      },
      "text/plain": [
       "FloatProgress(value=0.0, bar_style='info', description='Progress:', layout=Layout(height='25px', width='50%'),…"
      ]
     },
     "metadata": {},
     "output_type": "display_data"
    },
    {
     "name": "stdout",
     "output_type": "stream",
     "text": [
      "['ORDERNUMBER', 'QUANTITYORDERED', 'PRICEEACH', 'ORDERLINENUMBER', 'SALES', 'ORDERDATE', 'STATUS', 'QTR_ID', 'MONTH_ID', 'YEAR_ID', 'PRODUCTLINE', 'MSRP', 'PRODUCTCODE', 'DEALSIZE', 'CUSTOMERID']"
     ]
    }
   ],
   "source": [
    "salesDf.columns"
   ]
  },
  {
   "cell_type": "code",
   "execution_count": 31,
   "id": "9e73fb4c",
   "metadata": {},
   "outputs": [
    {
     "data": {
      "application/vnd.jupyter.widget-view+json": {
       "model_id": "",
       "version_major": 2,
       "version_minor": 0
      },
      "text/plain": [
       "FloatProgress(value=0.0, bar_style='info', description='Progress:', layout=Layout(height='25px', width='50%'),…"
      ]
     },
     "metadata": {},
     "output_type": "display_data"
    },
    {
     "name": "stdout",
     "output_type": "stream",
     "text": [
      "+-----------+----+\n",
      "|ORDERNUMBER|MSRP|\n",
      "+-----------+----+\n",
      "|      10107|  95|\n",
      "|      10121|  95|\n",
      "|      10134|  95|\n",
      "|      10145|  95|\n",
      "|      10159|  95|\n",
      "|      10168|  95|\n",
      "|      10180|  95|\n",
      "|      10188|  95|\n",
      "|      10201|  95|\n",
      "|      10211|  95|\n",
      "|      10223|  95|\n",
      "|      10237|  95|\n",
      "|      10251|  95|\n",
      "|      10263|  95|\n",
      "|      10275|  95|\n",
      "|      10285|  95|\n",
      "|      10299|  95|\n",
      "|      10309|  95|\n",
      "|      10318|  95|\n",
      "|      10329|  95|\n",
      "+-----------+----+\n",
      "only showing top 20 rows"
     ]
    }
   ],
   "source": [
    "salesDf.select('ORDERNUMBER','MSRP').show()"
   ]
  },
  {
   "cell_type": "code",
   "execution_count": 32,
   "id": "0cb24329",
   "metadata": {},
   "outputs": [
    {
     "data": {
      "application/vnd.jupyter.widget-view+json": {
       "model_id": "",
       "version_major": 2,
       "version_minor": 0
      },
      "text/plain": [
       "FloatProgress(value=0.0, bar_style='info', description='Progress:', layout=Layout(height='25px', width='50%'),…"
      ]
     },
     "metadata": {},
     "output_type": "display_data"
    }
   ],
   "source": [
    "# s3://kpmg-lighthouse-projects-aws/project-1-s3-glue/datasets/customers.csv\n",
    "\n",
    "customerDf=glueContext.read.options(inferSchema='True', header='True').csv(\"s3://kpmg-lighthouse-projects-aws/project-1-s3-glue/datasets/customers.csv\")"
   ]
  },
  {
   "cell_type": "code",
   "execution_count": 33,
   "id": "a043ee66",
   "metadata": {},
   "outputs": [
    {
     "data": {
      "application/vnd.jupyter.widget-view+json": {
       "model_id": "",
       "version_major": 2,
       "version_minor": 0
      },
      "text/plain": [
       "FloatProgress(value=0.0, bar_style='info', description='Progress:', layout=Layout(height='25px', width='50%'),…"
      ]
     },
     "metadata": {},
     "output_type": "display_data"
    },
    {
     "name": "stdout",
     "output_type": "stream",
     "text": [
      "['ORDERNUMBER', 'QUANTITYORDERED', 'PRICEEACH', 'ORDERLINENUMBER', 'SALES', 'ORDERDATE', 'STATUS', 'QTR_ID', 'MONTH_ID', 'YEAR_ID', 'PRODUCTLINE', 'MSRP', 'PRODUCTCODE', 'DEALSIZE', 'CUSTOMERID']"
     ]
    }
   ],
   "source": [
    "salesDf.columns"
   ]
  },
  {
   "cell_type": "code",
   "execution_count": 34,
   "id": "96eb2cc7",
   "metadata": {},
   "outputs": [
    {
     "data": {
      "application/vnd.jupyter.widget-view+json": {
       "model_id": "",
       "version_major": 2,
       "version_minor": 0
      },
      "text/plain": [
       "FloatProgress(value=0.0, bar_style='info', description='Progress:', layout=Layout(height='25px', width='50%'),…"
      ]
     },
     "metadata": {},
     "output_type": "display_data"
    },
    {
     "name": "stdout",
     "output_type": "stream",
     "text": [
      "['CUSTOMERID', 'CUSTOMERNAME', 'EMAIL', 'CITY', 'COUNTRY', 'TERRITORY', 'CONTACTFIRSTNAME', 'CONTACTLASTNAME']"
     ]
    }
   ],
   "source": [
    "customerDf.columns"
   ]
  },
  {
   "cell_type": "code",
   "execution_count": 36,
   "id": "acfb75d7",
   "metadata": {},
   "outputs": [
    {
     "data": {
      "application/vnd.jupyter.widget-view+json": {
       "model_id": "",
       "version_major": 2,
       "version_minor": 0
      },
      "text/plain": [
       "FloatProgress(value=0.0, bar_style='info', description='Progress:', layout=Layout(height='25px', width='50%'),…"
      ]
     },
     "metadata": {},
     "output_type": "display_data"
    },
    {
     "name": "stdout",
     "output_type": "stream",
     "text": [
      "+-----------+---------------+---------+---------------+-------+---------------+-------+------+--------+-------+-----------+----+-----------+--------+----------+\n",
      "|ORDERNUMBER|QUANTITYORDERED|PRICEEACH|ORDERLINENUMBER|  SALES|      ORDERDATE| STATUS|QTR_ID|MONTH_ID|YEAR_ID|PRODUCTLINE|MSRP|PRODUCTCODE|DEALSIZE|CUSTOMERID|\n",
      "+-----------+---------------+---------+---------------+-------+---------------+-------+------+--------+-------+-----------+----+-----------+--------+----------+\n",
      "|      10107|             30|     95.7|              2| 2871.0| 2/24/2003 0:00|Shipped|     1|       2|   2003|Motorcycles|  95|   S10_1678|   Small|         1|\n",
      "|      10121|             34|    81.35|              5| 2765.9|  5/7/2003 0:00|Shipped|     2|       5|   2003|Motorcycles|  95|   S10_1678|   Small|         2|\n",
      "|      10134|             41|    94.74|              2|3884.34|  7/1/2003 0:00|Shipped|     3|       7|   2003|Motorcycles|  95|   S10_1678|  Medium|         3|\n",
      "|      10145|             45|    83.26|              6| 3746.7| 8/25/2003 0:00|Shipped|     3|       8|   2003|Motorcycles|  95|   S10_1678|  Medium|         4|\n",
      "|      10159|             49|    100.0|             14|5205.27|10/10/2003 0:00|Shipped|     4|      10|   2003|Motorcycles|  95|   S10_1678|  Medium|         5|\n",
      "|      10168|             36|    96.66|              1|3479.76|10/28/2003 0:00|Shipped|     4|      10|   2003|Motorcycles|  95|   S10_1678|  Medium|         6|\n",
      "|      10180|             29|    86.13|              9|2497.77|11/11/2003 0:00|Shipped|     4|      11|   2003|Motorcycles|  95|   S10_1678|   Small|         7|\n",
      "|      10188|             48|    100.0|              1|5512.32|11/18/2003 0:00|Shipped|     4|      11|   2003|Motorcycles|  95|   S10_1678|  Medium|         8|\n",
      "|      10201|             22|    98.57|              2|2168.54| 12/1/2003 0:00|Shipped|     4|      12|   2003|Motorcycles|  95|   S10_1678|   Small|         9|\n",
      "|      10211|             41|    100.0|             14|4708.44| 1/15/2004 0:00|Shipped|     1|       1|   2004|Motorcycles|  95|   S10_1678|  Medium|        10|\n",
      "|      10223|             37|    100.0|              1|3965.66| 2/20/2004 0:00|Shipped|     1|       2|   2004|Motorcycles|  95|   S10_1678|  Medium|        11|\n",
      "|      10237|             23|    100.0|              7|2333.12|  4/5/2004 0:00|Shipped|     2|       4|   2004|Motorcycles|  95|   S10_1678|   Small|        12|\n",
      "|      10251|             28|    100.0|              2|3188.64| 5/18/2004 0:00|Shipped|     2|       5|   2004|Motorcycles|  95|   S10_1678|  Medium|        13|\n",
      "|      10263|             34|    100.0|              2|3676.76| 6/28/2004 0:00|Shipped|     2|       6|   2004|Motorcycles|  95|   S10_1678|  Medium|        14|\n",
      "|      10275|             45|    92.83|              1|4177.35| 7/23/2004 0:00|Shipped|     3|       7|   2004|Motorcycles|  95|   S10_1678|  Medium|        15|\n",
      "|      10285|             36|    100.0|              6|4099.68| 8/27/2004 0:00|Shipped|     3|       8|   2004|Motorcycles|  95|   S10_1678|  Medium|        16|\n",
      "|      10299|             23|    100.0|              9|2597.39| 9/30/2004 0:00|Shipped|     3|       9|   2004|Motorcycles|  95|   S10_1678|   Small|        17|\n",
      "|      10309|             41|    100.0|              5|4394.38|10/15/2004 0:00|Shipped|     4|      10|   2004|Motorcycles|  95|   S10_1678|  Medium|        18|\n",
      "|      10318|             46|    94.74|              1|4358.04| 11/2/2004 0:00|Shipped|     4|      11|   2004|Motorcycles|  95|   S10_1678|  Medium|        19|\n",
      "|      10329|             42|    100.0|              1|4396.14|11/15/2004 0:00|Shipped|     4|      11|   2004|Motorcycles|  95|   S10_1678|  Medium|        20|\n",
      "+-----------+---------------+---------+---------------+-------+---------------+-------+------+--------+-------+-----------+----+-----------+--------+----------+\n",
      "only showing top 20 rows"
     ]
    }
   ],
   "source": [
    "salesDf.show()"
   ]
  },
  {
   "cell_type": "code",
   "execution_count": 37,
   "id": "303d7dab",
   "metadata": {},
   "outputs": [
    {
     "data": {
      "application/vnd.jupyter.widget-view+json": {
       "model_id": "",
       "version_major": 2,
       "version_minor": 0
      },
      "text/plain": [
       "FloatProgress(value=0.0, bar_style='info', description='Progress:', layout=Layout(height='25px', width='50%'),…"
      ]
     },
     "metadata": {},
     "output_type": "display_data"
    },
    {
     "name": "stdout",
     "output_type": "stream",
     "text": [
      "+----------+--------------------+--------------------+-------------+---------+---------+----------------+---------------+\n",
      "|CUSTOMERID|        CUSTOMERNAME|               EMAIL|         CITY|  COUNTRY|TERRITORY|CONTACTFIRSTNAME|CONTACTLASTNAME|\n",
      "+----------+--------------------+--------------------+-------------+---------+---------+----------------+---------------+\n",
      "|         1|   Land of Toys Inc.|  gladys.rim@rim.org|          NYC|      USA|       NA|           James|           Butt|\n",
      "|         2|  Reims Collectables|yuki_whobrey@aol.com|        Reims|   France|     EMEA|       Josephine|        Darakjy|\n",
      "|         3|     Lyon Souveniers|fletcher.flosi@ya...|        Paris|   France|     EMEA|             Art|         Venere|\n",
      "|         4|   Toys4GrownUps.com| bette_nicka@cox.net|     Pasadena|      USA|       NA|           Lenna|       Paprocki|\n",
      "|         5|Corporate Gift Id...|     vinouye@aol.com|San Francisco|      USA|       NA|         Donette|         Foller|\n",
      "|         6|Technics Stores Inc.|  gladys.rim@rim.org|   Burlingame|      USA|       NA|          Simona|        Morasca|\n",
      "|         7|Daedalus Designs ...|yuki_whobrey@aol.com|        Lille|   France|     EMEA|          Mitsue|        Tollner|\n",
      "|         8|        Herkku Gifts|fletcher.flosi@ya...|       Bergen|   Norway|     EMEA|           Leota|       Dilliard|\n",
      "|         9|     Mini Wheels Co.| bette_nicka@cox.net|San Francisco|      USA|       NA|            Sage|         Wieser|\n",
      "|        10|    Auto Canal Petit|     vinouye@aol.com|        Paris|   France|     EMEA|            Kris|        Marrier|\n",
      "|        11|Australian Collec...|  gladys.rim@rim.org|    Melbourne|Australia|     APAC|           Minna|         Amigon|\n",
      "|        12|     Vitachrome Inc.|yuki_whobrey@aol.com|          NYC|      USA|       NA|            Abel|        Maclead|\n",
      "|        13|Tekni Collectable...|fletcher.flosi@ya...|       Newark|      USA|       NA|           Kiley|      Caldarera|\n",
      "|        14|     Gift Depot Inc.| bette_nicka@cox.net|  Bridgewater|      USA|       NA|        Graciela|           Ruta|\n",
      "|        15|   La Rochelle Gifts|     vinouye@aol.com|       Nantes|   France|     EMEA|           Cammy|        Albares|\n",
      "|        16|Marta's Replicas Co.|  gladys.rim@rim.org|    Cambridge|      USA|       NA|          Mattie|       Poquette|\n",
      "|        17| Toys of Finland Co.|yuki_whobrey@aol.com|     Helsinki|  Finland|     EMEA|         Meaghan|         Garufi|\n",
      "|        18|  Baane Mini Imports|fletcher.flosi@ya...|      Stavern|   Norway|     EMEA|          Gladys|            Rim|\n",
      "|        19|Diecast Classics ...| bette_nicka@cox.net|    Allentown|      USA|       NA|            Yuki|        Whobrey|\n",
      "|        20|   Land of Toys Inc.|     vinouye@aol.com|          NYC|      USA|       NA|        Fletcher|          Flosi|\n",
      "+----------+--------------------+--------------------+-------------+---------+---------+----------------+---------------+\n",
      "only showing top 20 rows"
     ]
    }
   ],
   "source": [
    "customerDf.show()"
   ]
  },
  {
   "cell_type": "code",
   "execution_count": 38,
   "id": "3fcb3cf2",
   "metadata": {},
   "outputs": [
    {
     "data": {
      "application/vnd.jupyter.widget-view+json": {
       "model_id": "",
       "version_major": 2,
       "version_minor": 0
      },
      "text/plain": [
       "FloatProgress(value=0.0, bar_style='info', description='Progress:', layout=Layout(height='25px', width='50%'),…"
      ]
     },
     "metadata": {},
     "output_type": "display_data"
    }
   ],
   "source": [
    "fulldata = customerDf.join(salesDf,'CUSTOMERID','left')"
   ]
  },
  {
   "cell_type": "code",
   "execution_count": 39,
   "id": "54009515",
   "metadata": {},
   "outputs": [
    {
     "data": {
      "application/vnd.jupyter.widget-view+json": {
       "model_id": "",
       "version_major": 2,
       "version_minor": 0
      },
      "text/plain": [
       "FloatProgress(value=0.0, bar_style='info', description='Progress:', layout=Layout(height='25px', width='50%'),…"
      ]
     },
     "metadata": {},
     "output_type": "display_data"
    },
    {
     "name": "stdout",
     "output_type": "stream",
     "text": [
      "+----------+--------------------+--------------------+-------------+---------+---------+----------------+---------------+-----------+---------------+---------+---------------+-------+---------------+-------+------+--------+-------+-----------+----+-----------+--------+\n",
      "|CUSTOMERID|        CUSTOMERNAME|               EMAIL|         CITY|  COUNTRY|TERRITORY|CONTACTFIRSTNAME|CONTACTLASTNAME|ORDERNUMBER|QUANTITYORDERED|PRICEEACH|ORDERLINENUMBER|  SALES|      ORDERDATE| STATUS|QTR_ID|MONTH_ID|YEAR_ID|PRODUCTLINE|MSRP|PRODUCTCODE|DEALSIZE|\n",
      "+----------+--------------------+--------------------+-------------+---------+---------+----------------+---------------+-----------+---------------+---------+---------------+-------+---------------+-------+------+--------+-------+-----------+----+-----------+--------+\n",
      "|         1|   Land of Toys Inc.|  gladys.rim@rim.org|          NYC|      USA|       NA|           James|           Butt|      10107|             30|     95.7|              2| 2871.0| 2/24/2003 0:00|Shipped|     1|       2|   2003|Motorcycles|  95|   S10_1678|   Small|\n",
      "|         2|  Reims Collectables|yuki_whobrey@aol.com|        Reims|   France|     EMEA|       Josephine|        Darakjy|      10121|             34|    81.35|              5| 2765.9|  5/7/2003 0:00|Shipped|     2|       5|   2003|Motorcycles|  95|   S10_1678|   Small|\n",
      "|         3|     Lyon Souveniers|fletcher.flosi@ya...|        Paris|   France|     EMEA|             Art|         Venere|      10134|             41|    94.74|              2|3884.34|  7/1/2003 0:00|Shipped|     3|       7|   2003|Motorcycles|  95|   S10_1678|  Medium|\n",
      "|         4|   Toys4GrownUps.com| bette_nicka@cox.net|     Pasadena|      USA|       NA|           Lenna|       Paprocki|      10145|             45|    83.26|              6| 3746.7| 8/25/2003 0:00|Shipped|     3|       8|   2003|Motorcycles|  95|   S10_1678|  Medium|\n",
      "|         5|Corporate Gift Id...|     vinouye@aol.com|San Francisco|      USA|       NA|         Donette|         Foller|      10159|             49|    100.0|             14|5205.27|10/10/2003 0:00|Shipped|     4|      10|   2003|Motorcycles|  95|   S10_1678|  Medium|\n",
      "|         6|Technics Stores Inc.|  gladys.rim@rim.org|   Burlingame|      USA|       NA|          Simona|        Morasca|      10168|             36|    96.66|              1|3479.76|10/28/2003 0:00|Shipped|     4|      10|   2003|Motorcycles|  95|   S10_1678|  Medium|\n",
      "|         7|Daedalus Designs ...|yuki_whobrey@aol.com|        Lille|   France|     EMEA|          Mitsue|        Tollner|      10180|             29|    86.13|              9|2497.77|11/11/2003 0:00|Shipped|     4|      11|   2003|Motorcycles|  95|   S10_1678|   Small|\n",
      "|         8|        Herkku Gifts|fletcher.flosi@ya...|       Bergen|   Norway|     EMEA|           Leota|       Dilliard|      10188|             48|    100.0|              1|5512.32|11/18/2003 0:00|Shipped|     4|      11|   2003|Motorcycles|  95|   S10_1678|  Medium|\n",
      "|         9|     Mini Wheels Co.| bette_nicka@cox.net|San Francisco|      USA|       NA|            Sage|         Wieser|      10201|             22|    98.57|              2|2168.54| 12/1/2003 0:00|Shipped|     4|      12|   2003|Motorcycles|  95|   S10_1678|   Small|\n",
      "|        10|    Auto Canal Petit|     vinouye@aol.com|        Paris|   France|     EMEA|            Kris|        Marrier|      10211|             41|    100.0|             14|4708.44| 1/15/2004 0:00|Shipped|     1|       1|   2004|Motorcycles|  95|   S10_1678|  Medium|\n",
      "|        11|Australian Collec...|  gladys.rim@rim.org|    Melbourne|Australia|     APAC|           Minna|         Amigon|      10223|             37|    100.0|              1|3965.66| 2/20/2004 0:00|Shipped|     1|       2|   2004|Motorcycles|  95|   S10_1678|  Medium|\n",
      "|        12|     Vitachrome Inc.|yuki_whobrey@aol.com|          NYC|      USA|       NA|            Abel|        Maclead|      10237|             23|    100.0|              7|2333.12|  4/5/2004 0:00|Shipped|     2|       4|   2004|Motorcycles|  95|   S10_1678|   Small|\n",
      "|        13|Tekni Collectable...|fletcher.flosi@ya...|       Newark|      USA|       NA|           Kiley|      Caldarera|      10251|             28|    100.0|              2|3188.64| 5/18/2004 0:00|Shipped|     2|       5|   2004|Motorcycles|  95|   S10_1678|  Medium|\n",
      "|        14|     Gift Depot Inc.| bette_nicka@cox.net|  Bridgewater|      USA|       NA|        Graciela|           Ruta|      10263|             34|    100.0|              2|3676.76| 6/28/2004 0:00|Shipped|     2|       6|   2004|Motorcycles|  95|   S10_1678|  Medium|\n",
      "|        15|   La Rochelle Gifts|     vinouye@aol.com|       Nantes|   France|     EMEA|           Cammy|        Albares|      10275|             45|    92.83|              1|4177.35| 7/23/2004 0:00|Shipped|     3|       7|   2004|Motorcycles|  95|   S10_1678|  Medium|\n",
      "|        16|Marta's Replicas Co.|  gladys.rim@rim.org|    Cambridge|      USA|       NA|          Mattie|       Poquette|      10285|             36|    100.0|              6|4099.68| 8/27/2004 0:00|Shipped|     3|       8|   2004|Motorcycles|  95|   S10_1678|  Medium|\n",
      "|        17| Toys of Finland Co.|yuki_whobrey@aol.com|     Helsinki|  Finland|     EMEA|         Meaghan|         Garufi|      10299|             23|    100.0|              9|2597.39| 9/30/2004 0:00|Shipped|     3|       9|   2004|Motorcycles|  95|   S10_1678|   Small|\n",
      "|        18|  Baane Mini Imports|fletcher.flosi@ya...|      Stavern|   Norway|     EMEA|          Gladys|            Rim|      10309|             41|    100.0|              5|4394.38|10/15/2004 0:00|Shipped|     4|      10|   2004|Motorcycles|  95|   S10_1678|  Medium|\n",
      "|        19|Diecast Classics ...| bette_nicka@cox.net|    Allentown|      USA|       NA|            Yuki|        Whobrey|      10318|             46|    94.74|              1|4358.04| 11/2/2004 0:00|Shipped|     4|      11|   2004|Motorcycles|  95|   S10_1678|  Medium|\n",
      "|        20|   Land of Toys Inc.|     vinouye@aol.com|          NYC|      USA|       NA|        Fletcher|          Flosi|      10329|             42|    100.0|              1|4396.14|11/15/2004 0:00|Shipped|     4|      11|   2004|Motorcycles|  95|   S10_1678|  Medium|\n",
      "+----------+--------------------+--------------------+-------------+---------+---------+----------------+---------------+-----------+---------------+---------+---------------+-------+---------------+-------+------+--------+-------+-----------+----+-----------+--------+\n",
      "only showing top 20 rows"
     ]
    }
   ],
   "source": [
    "fulldata.show()"
   ]
  },
  {
   "cell_type": "code",
   "execution_count": 40,
   "id": "ea08b405",
   "metadata": {},
   "outputs": [
    {
     "data": {
      "application/vnd.jupyter.widget-view+json": {
       "model_id": "",
       "version_major": 2,
       "version_minor": 0
      },
      "text/plain": [
       "FloatProgress(value=0.0, bar_style='info', description='Progress:', layout=Layout(height='25px', width='50%'),…"
      ]
     },
     "metadata": {},
     "output_type": "display_data"
    },
    {
     "name": "stdout",
     "output_type": "stream",
     "text": [
      "['CUSTOMERID', 'CUSTOMERNAME', 'EMAIL', 'CITY', 'COUNTRY', 'TERRITORY', 'CONTACTFIRSTNAME', 'CONTACTLASTNAME', 'ORDERNUMBER', 'QUANTITYORDERED', 'PRICEEACH', 'ORDERLINENUMBER', 'SALES', 'ORDERDATE', 'STATUS', 'QTR_ID', 'MONTH_ID', 'YEAR_ID', 'PRODUCTLINE', 'MSRP', 'PRODUCTCODE', 'DEALSIZE']"
     ]
    }
   ],
   "source": [
    "fulldata.columns"
   ]
  },
  {
   "cell_type": "code",
   "execution_count": null,
   "id": "bf31f79d",
   "metadata": {},
   "outputs": [],
   "source": [
    "#1-7 insights "
   ]
  }
 ],
 "metadata": {
  "kernelspec": {
   "display_name": "Sparkmagic (PySpark)",
   "language": "python",
   "name": "pysparkkernel"
  },
  "language_info": {
   "codemirror_mode": {
    "name": "python",
    "version": 3
   },
   "file_extension": ".py",
   "mimetype": "text/x-python",
   "name": "pyspark",
   "pygments_lexer": "python3"
  }
 },
 "nbformat": 4,
 "nbformat_minor": 5
}
